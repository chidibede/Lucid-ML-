{
 "cells": [
  {
   "cell_type": "code",
   "execution_count": 1,
   "metadata": {},
   "outputs": [],
   "source": [
    "import pandas as pd\n",
    "from collections import Counter"
   ]
  },
  {
   "cell_type": "code",
   "execution_count": 2,
   "metadata": {},
   "outputs": [],
   "source": [
    "data = pd.read_csv(\"cleaned_wikihowall.csv\")\n",
    "data = data[0:1000]"
   ]
  },
  {
   "cell_type": "code",
   "execution_count": 4,
   "metadata": {},
   "outputs": [],
   "source": [
    "head = data['summary']\n",
    "desc = data['text']"
   ]
  },
  {
   "cell_type": "code",
   "execution_count": 7,
   "metadata": {},
   "outputs": [
    {
     "data": {
      "text/plain": [
       "' see the image for how this drawing develops step by step  however  there is an important detail  the following drawings are to examine it  and then  to create something unique    use the lines to create the image shape and sections  fill appeared sections with different patterns  ornaments  add text if needed  for example  neopoprealism is      add a colored strip on the top  any color you wish     painting a mural always requires some preparation  you ll need equipment and effort  but planning and attention to detail will help you succeed  painting a mural requires a suitable location  with the right surface that can be painted   this surface should be smooth and flat  however  even rough textured surfaces can be used for your neopoprealist mural project     for exterior projects that last for years  using a newer      acrylic exterior paint would be your best choice  for interior walls  use latex paints  latex offer easier cleanup and lower costs  by measuring the total wall area to be covered  the total amount of paint can be calculated  but since this mural painting requires two colors   white and black   figuring the actual area to be painted each color is necessary to allow purchasing the right amount of each one   large walls backgrounds may be rolled or sprayed with a white paint sprayer  where details may be added with brushes  paints are sensitive to high temperatures  humidity  direct sunlight  however  the interior projects do not have many complications  in public places  keeping the mural protected may require attention  for that reason  if you make your neopoprealist mural dedicated to its    year anniversary in school or office  you can consider using varnish for your mural     see sample above  the design will give you a sense of proportion  you will have unique requirements and elements   use a sketch and measure at scale the distances and locations of various points of your subject  measuring key features will help you calculate the amount of paint when each feature is identified by its color   if the surface is low  the whole mural can be painted standing on the ground or from a stepladder  for higher work  you may have to rent a scaffold   mark the horizontal and vertical lines   use white paint as background   then begin marking  using your scaled sketch  the location of key elements of objects  located in the foreground  everything depends on the complexity of your mural  if you are confident in your artistic results  you may choose to draw all of the details in freehand   be careful  keep clean transition edges from one color  black  to another  white   however  mistakes can be touched up later  always allow fresh color to dry before proceeding to the drawing   an example would be painting a large patterns use big brushes  limbs  use small brushes for tiny and detailed patterns   if you have a drip or run  paint over it with the color paint appropriate for that location  sharpen lines and patterns if they are blurred   if it is intended to last a long time or if it is on a surface that require cleaning  overcoat your mural project with a clear sealer   however  if you will not be able to involve more than    percent of your brain s grays matter  you will end up with the primitive crafting of patterns or even worse  with doodling or so called zen doodling  but to create the neopoprealist art one needs the abilities  which can be developed in talented people by studying using nadia russ  neopoprealist instructional books  other  the copycats  self promotional superficial books will teach you only how to doodle because they have nothing in common with visual arts and its mission   '"
      ]
     },
     "execution_count": 7,
     "metadata": {},
     "output_type": "execute_result"
    }
   ],
   "source": [
    "def tokenize_text(lst):\n",
    "    vocabcount, vocab = Counter()"
   ]
  },
  {
   "cell_type": "code",
   "execution_count": null,
   "metadata": {},
   "outputs": [],
   "source": []
  }
 ],
 "metadata": {
  "kernelspec": {
   "display_name": "Python 3",
   "language": "python",
   "name": "python3"
  },
  "language_info": {
   "codemirror_mode": {
    "name": "ipython",
    "version": 3
   },
   "file_extension": ".py",
   "mimetype": "text/x-python",
   "name": "python",
   "nbconvert_exporter": "python",
   "pygments_lexer": "ipython3",
   "version": "3.7.3"
  }
 },
 "nbformat": 4,
 "nbformat_minor": 2
}
